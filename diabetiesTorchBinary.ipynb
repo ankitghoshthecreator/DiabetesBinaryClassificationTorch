{
  "nbformat": 4,
  "nbformat_minor": 0,
  "metadata": {
    "colab": {
      "provenance": []
    },
    "kernelspec": {
      "name": "python3",
      "display_name": "Python 3"
    },
    "language_info": {
      "name": "python"
    }
  },
  "cells": [
    {
      "cell_type": "code",
      "execution_count": null,
      "metadata": {
        "id": "sLgmIjd4P6Pj"
      },
      "outputs": [],
      "source": [
        "import pandas as pd\n",
        "import torch\n",
        "from sklearn.model_selection import train_test_split\n",
        "import torch.optim as optim\n",
        "import torch.nn as nn\n",
        "import"
      ]
    },
    {
      "cell_type": "code",
      "source": [
        "df=pd.read_csv('/content/diabetes.csv')"
      ],
      "metadata": {
        "id": "Slb5ml-nRiES"
      },
      "execution_count": null,
      "outputs": []
    },
    {
      "cell_type": "code",
      "source": [
        "df.head()"
      ],
      "metadata": {
        "colab": {
          "base_uri": "https://localhost:8080/",
          "height": 206
        },
        "id": "7ueF6BnGSgYP",
        "outputId": "c196a1c6-8cf4-4129-a5de-e764ae6f25f8"
      },
      "execution_count": null,
      "outputs": [
        {
          "output_type": "execute_result",
          "data": {
            "text/plain": [
              "   Pregnancies  Glucose  BloodPressure  SkinThickness  Insulin   BMI  \\\n",
              "0            6      148             72             35        0  33.6   \n",
              "1            1       85             66             29        0  26.6   \n",
              "2            8      183             64              0        0  23.3   \n",
              "3            1       89             66             23       94  28.1   \n",
              "4            0      137             40             35      168  43.1   \n",
              "\n",
              "   DiabetesPedigreeFunction  Age  Outcome  \n",
              "0                     0.627   50        1  \n",
              "1                     0.351   31        0  \n",
              "2                     0.672   32        1  \n",
              "3                     0.167   21        0  \n",
              "4                     2.288   33        1  "
            ],
            "text/html": [
              "\n",
              "  <div id=\"df-f9aef481-5ce4-4f1b-866b-085fdf15a3ec\" class=\"colab-df-container\">\n",
              "    <div>\n",
              "<style scoped>\n",
              "    .dataframe tbody tr th:only-of-type {\n",
              "        vertical-align: middle;\n",
              "    }\n",
              "\n",
              "    .dataframe tbody tr th {\n",
              "        vertical-align: top;\n",
              "    }\n",
              "\n",
              "    .dataframe thead th {\n",
              "        text-align: right;\n",
              "    }\n",
              "</style>\n",
              "<table border=\"1\" class=\"dataframe\">\n",
              "  <thead>\n",
              "    <tr style=\"text-align: right;\">\n",
              "      <th></th>\n",
              "      <th>Pregnancies</th>\n",
              "      <th>Glucose</th>\n",
              "      <th>BloodPressure</th>\n",
              "      <th>SkinThickness</th>\n",
              "      <th>Insulin</th>\n",
              "      <th>BMI</th>\n",
              "      <th>DiabetesPedigreeFunction</th>\n",
              "      <th>Age</th>\n",
              "      <th>Outcome</th>\n",
              "    </tr>\n",
              "  </thead>\n",
              "  <tbody>\n",
              "    <tr>\n",
              "      <th>0</th>\n",
              "      <td>6</td>\n",
              "      <td>148</td>\n",
              "      <td>72</td>\n",
              "      <td>35</td>\n",
              "      <td>0</td>\n",
              "      <td>33.6</td>\n",
              "      <td>0.627</td>\n",
              "      <td>50</td>\n",
              "      <td>1</td>\n",
              "    </tr>\n",
              "    <tr>\n",
              "      <th>1</th>\n",
              "      <td>1</td>\n",
              "      <td>85</td>\n",
              "      <td>66</td>\n",
              "      <td>29</td>\n",
              "      <td>0</td>\n",
              "      <td>26.6</td>\n",
              "      <td>0.351</td>\n",
              "      <td>31</td>\n",
              "      <td>0</td>\n",
              "    </tr>\n",
              "    <tr>\n",
              "      <th>2</th>\n",
              "      <td>8</td>\n",
              "      <td>183</td>\n",
              "      <td>64</td>\n",
              "      <td>0</td>\n",
              "      <td>0</td>\n",
              "      <td>23.3</td>\n",
              "      <td>0.672</td>\n",
              "      <td>32</td>\n",
              "      <td>1</td>\n",
              "    </tr>\n",
              "    <tr>\n",
              "      <th>3</th>\n",
              "      <td>1</td>\n",
              "      <td>89</td>\n",
              "      <td>66</td>\n",
              "      <td>23</td>\n",
              "      <td>94</td>\n",
              "      <td>28.1</td>\n",
              "      <td>0.167</td>\n",
              "      <td>21</td>\n",
              "      <td>0</td>\n",
              "    </tr>\n",
              "    <tr>\n",
              "      <th>4</th>\n",
              "      <td>0</td>\n",
              "      <td>137</td>\n",
              "      <td>40</td>\n",
              "      <td>35</td>\n",
              "      <td>168</td>\n",
              "      <td>43.1</td>\n",
              "      <td>2.288</td>\n",
              "      <td>33</td>\n",
              "      <td>1</td>\n",
              "    </tr>\n",
              "  </tbody>\n",
              "</table>\n",
              "</div>\n",
              "    <div class=\"colab-df-buttons\">\n",
              "\n",
              "  <div class=\"colab-df-container\">\n",
              "    <button class=\"colab-df-convert\" onclick=\"convertToInteractive('df-f9aef481-5ce4-4f1b-866b-085fdf15a3ec')\"\n",
              "            title=\"Convert this dataframe to an interactive table.\"\n",
              "            style=\"display:none;\">\n",
              "\n",
              "  <svg xmlns=\"http://www.w3.org/2000/svg\" height=\"24px\" viewBox=\"0 -960 960 960\">\n",
              "    <path d=\"M120-120v-720h720v720H120Zm60-500h600v-160H180v160Zm220 220h160v-160H400v160Zm0 220h160v-160H400v160ZM180-400h160v-160H180v160Zm440 0h160v-160H620v160ZM180-180h160v-160H180v160Zm440 0h160v-160H620v160Z\"/>\n",
              "  </svg>\n",
              "    </button>\n",
              "\n",
              "  <style>\n",
              "    .colab-df-container {\n",
              "      display:flex;\n",
              "      gap: 12px;\n",
              "    }\n",
              "\n",
              "    .colab-df-convert {\n",
              "      background-color: #E8F0FE;\n",
              "      border: none;\n",
              "      border-radius: 50%;\n",
              "      cursor: pointer;\n",
              "      display: none;\n",
              "      fill: #1967D2;\n",
              "      height: 32px;\n",
              "      padding: 0 0 0 0;\n",
              "      width: 32px;\n",
              "    }\n",
              "\n",
              "    .colab-df-convert:hover {\n",
              "      background-color: #E2EBFA;\n",
              "      box-shadow: 0px 1px 2px rgba(60, 64, 67, 0.3), 0px 1px 3px 1px rgba(60, 64, 67, 0.15);\n",
              "      fill: #174EA6;\n",
              "    }\n",
              "\n",
              "    .colab-df-buttons div {\n",
              "      margin-bottom: 4px;\n",
              "    }\n",
              "\n",
              "    [theme=dark] .colab-df-convert {\n",
              "      background-color: #3B4455;\n",
              "      fill: #D2E3FC;\n",
              "    }\n",
              "\n",
              "    [theme=dark] .colab-df-convert:hover {\n",
              "      background-color: #434B5C;\n",
              "      box-shadow: 0px 1px 3px 1px rgba(0, 0, 0, 0.15);\n",
              "      filter: drop-shadow(0px 1px 2px rgba(0, 0, 0, 0.3));\n",
              "      fill: #FFFFFF;\n",
              "    }\n",
              "  </style>\n",
              "\n",
              "    <script>\n",
              "      const buttonEl =\n",
              "        document.querySelector('#df-f9aef481-5ce4-4f1b-866b-085fdf15a3ec button.colab-df-convert');\n",
              "      buttonEl.style.display =\n",
              "        google.colab.kernel.accessAllowed ? 'block' : 'none';\n",
              "\n",
              "      async function convertToInteractive(key) {\n",
              "        const element = document.querySelector('#df-f9aef481-5ce4-4f1b-866b-085fdf15a3ec');\n",
              "        const dataTable =\n",
              "          await google.colab.kernel.invokeFunction('convertToInteractive',\n",
              "                                                    [key], {});\n",
              "        if (!dataTable) return;\n",
              "\n",
              "        const docLinkHtml = 'Like what you see? Visit the ' +\n",
              "          '<a target=\"_blank\" href=https://colab.research.google.com/notebooks/data_table.ipynb>data table notebook</a>'\n",
              "          + ' to learn more about interactive tables.';\n",
              "        element.innerHTML = '';\n",
              "        dataTable['output_type'] = 'display_data';\n",
              "        await google.colab.output.renderOutput(dataTable, element);\n",
              "        const docLink = document.createElement('div');\n",
              "        docLink.innerHTML = docLinkHtml;\n",
              "        element.appendChild(docLink);\n",
              "      }\n",
              "    </script>\n",
              "  </div>\n",
              "\n",
              "\n",
              "<div id=\"df-398e6cef-b4d6-494d-9144-ce940db78b72\">\n",
              "  <button class=\"colab-df-quickchart\" onclick=\"quickchart('df-398e6cef-b4d6-494d-9144-ce940db78b72')\"\n",
              "            title=\"Suggest charts\"\n",
              "            style=\"display:none;\">\n",
              "\n",
              "<svg xmlns=\"http://www.w3.org/2000/svg\" height=\"24px\"viewBox=\"0 0 24 24\"\n",
              "     width=\"24px\">\n",
              "    <g>\n",
              "        <path d=\"M19 3H5c-1.1 0-2 .9-2 2v14c0 1.1.9 2 2 2h14c1.1 0 2-.9 2-2V5c0-1.1-.9-2-2-2zM9 17H7v-7h2v7zm4 0h-2V7h2v10zm4 0h-2v-4h2v4z\"/>\n",
              "    </g>\n",
              "</svg>\n",
              "  </button>\n",
              "\n",
              "<style>\n",
              "  .colab-df-quickchart {\n",
              "      --bg-color: #E8F0FE;\n",
              "      --fill-color: #1967D2;\n",
              "      --hover-bg-color: #E2EBFA;\n",
              "      --hover-fill-color: #174EA6;\n",
              "      --disabled-fill-color: #AAA;\n",
              "      --disabled-bg-color: #DDD;\n",
              "  }\n",
              "\n",
              "  [theme=dark] .colab-df-quickchart {\n",
              "      --bg-color: #3B4455;\n",
              "      --fill-color: #D2E3FC;\n",
              "      --hover-bg-color: #434B5C;\n",
              "      --hover-fill-color: #FFFFFF;\n",
              "      --disabled-bg-color: #3B4455;\n",
              "      --disabled-fill-color: #666;\n",
              "  }\n",
              "\n",
              "  .colab-df-quickchart {\n",
              "    background-color: var(--bg-color);\n",
              "    border: none;\n",
              "    border-radius: 50%;\n",
              "    cursor: pointer;\n",
              "    display: none;\n",
              "    fill: var(--fill-color);\n",
              "    height: 32px;\n",
              "    padding: 0;\n",
              "    width: 32px;\n",
              "  }\n",
              "\n",
              "  .colab-df-quickchart:hover {\n",
              "    background-color: var(--hover-bg-color);\n",
              "    box-shadow: 0 1px 2px rgba(60, 64, 67, 0.3), 0 1px 3px 1px rgba(60, 64, 67, 0.15);\n",
              "    fill: var(--button-hover-fill-color);\n",
              "  }\n",
              "\n",
              "  .colab-df-quickchart-complete:disabled,\n",
              "  .colab-df-quickchart-complete:disabled:hover {\n",
              "    background-color: var(--disabled-bg-color);\n",
              "    fill: var(--disabled-fill-color);\n",
              "    box-shadow: none;\n",
              "  }\n",
              "\n",
              "  .colab-df-spinner {\n",
              "    border: 2px solid var(--fill-color);\n",
              "    border-color: transparent;\n",
              "    border-bottom-color: var(--fill-color);\n",
              "    animation:\n",
              "      spin 1s steps(1) infinite;\n",
              "  }\n",
              "\n",
              "  @keyframes spin {\n",
              "    0% {\n",
              "      border-color: transparent;\n",
              "      border-bottom-color: var(--fill-color);\n",
              "      border-left-color: var(--fill-color);\n",
              "    }\n",
              "    20% {\n",
              "      border-color: transparent;\n",
              "      border-left-color: var(--fill-color);\n",
              "      border-top-color: var(--fill-color);\n",
              "    }\n",
              "    30% {\n",
              "      border-color: transparent;\n",
              "      border-left-color: var(--fill-color);\n",
              "      border-top-color: var(--fill-color);\n",
              "      border-right-color: var(--fill-color);\n",
              "    }\n",
              "    40% {\n",
              "      border-color: transparent;\n",
              "      border-right-color: var(--fill-color);\n",
              "      border-top-color: var(--fill-color);\n",
              "    }\n",
              "    60% {\n",
              "      border-color: transparent;\n",
              "      border-right-color: var(--fill-color);\n",
              "    }\n",
              "    80% {\n",
              "      border-color: transparent;\n",
              "      border-right-color: var(--fill-color);\n",
              "      border-bottom-color: var(--fill-color);\n",
              "    }\n",
              "    90% {\n",
              "      border-color: transparent;\n",
              "      border-bottom-color: var(--fill-color);\n",
              "    }\n",
              "  }\n",
              "</style>\n",
              "\n",
              "  <script>\n",
              "    async function quickchart(key) {\n",
              "      const quickchartButtonEl =\n",
              "        document.querySelector('#' + key + ' button');\n",
              "      quickchartButtonEl.disabled = true;  // To prevent multiple clicks.\n",
              "      quickchartButtonEl.classList.add('colab-df-spinner');\n",
              "      try {\n",
              "        const charts = await google.colab.kernel.invokeFunction(\n",
              "            'suggestCharts', [key], {});\n",
              "      } catch (error) {\n",
              "        console.error('Error during call to suggestCharts:', error);\n",
              "      }\n",
              "      quickchartButtonEl.classList.remove('colab-df-spinner');\n",
              "      quickchartButtonEl.classList.add('colab-df-quickchart-complete');\n",
              "    }\n",
              "    (() => {\n",
              "      let quickchartButtonEl =\n",
              "        document.querySelector('#df-398e6cef-b4d6-494d-9144-ce940db78b72 button');\n",
              "      quickchartButtonEl.style.display =\n",
              "        google.colab.kernel.accessAllowed ? 'block' : 'none';\n",
              "    })();\n",
              "  </script>\n",
              "</div>\n",
              "\n",
              "    </div>\n",
              "  </div>\n"
            ],
            "application/vnd.google.colaboratory.intrinsic+json": {
              "type": "dataframe",
              "variable_name": "df",
              "summary": "{\n  \"name\": \"df\",\n  \"rows\": 768,\n  \"fields\": [\n    {\n      \"column\": \"Pregnancies\",\n      \"properties\": {\n        \"dtype\": \"number\",\n        \"std\": 3,\n        \"min\": 0,\n        \"max\": 17,\n        \"num_unique_values\": 17,\n        \"samples\": [\n          6,\n          1,\n          3\n        ],\n        \"semantic_type\": \"\",\n        \"description\": \"\"\n      }\n    },\n    {\n      \"column\": \"Glucose\",\n      \"properties\": {\n        \"dtype\": \"number\",\n        \"std\": 31,\n        \"min\": 0,\n        \"max\": 199,\n        \"num_unique_values\": 136,\n        \"samples\": [\n          151,\n          101,\n          112\n        ],\n        \"semantic_type\": \"\",\n        \"description\": \"\"\n      }\n    },\n    {\n      \"column\": \"BloodPressure\",\n      \"properties\": {\n        \"dtype\": \"number\",\n        \"std\": 19,\n        \"min\": 0,\n        \"max\": 122,\n        \"num_unique_values\": 47,\n        \"samples\": [\n          86,\n          46,\n          85\n        ],\n        \"semantic_type\": \"\",\n        \"description\": \"\"\n      }\n    },\n    {\n      \"column\": \"SkinThickness\",\n      \"properties\": {\n        \"dtype\": \"number\",\n        \"std\": 15,\n        \"min\": 0,\n        \"max\": 99,\n        \"num_unique_values\": 51,\n        \"samples\": [\n          7,\n          12,\n          48\n        ],\n        \"semantic_type\": \"\",\n        \"description\": \"\"\n      }\n    },\n    {\n      \"column\": \"Insulin\",\n      \"properties\": {\n        \"dtype\": \"number\",\n        \"std\": 115,\n        \"min\": 0,\n        \"max\": 846,\n        \"num_unique_values\": 186,\n        \"samples\": [\n          52,\n          41,\n          183\n        ],\n        \"semantic_type\": \"\",\n        \"description\": \"\"\n      }\n    },\n    {\n      \"column\": \"BMI\",\n      \"properties\": {\n        \"dtype\": \"number\",\n        \"std\": 7.8841603203754405,\n        \"min\": 0.0,\n        \"max\": 67.1,\n        \"num_unique_values\": 248,\n        \"samples\": [\n          19.9,\n          31.0,\n          38.1\n        ],\n        \"semantic_type\": \"\",\n        \"description\": \"\"\n      }\n    },\n    {\n      \"column\": \"DiabetesPedigreeFunction\",\n      \"properties\": {\n        \"dtype\": \"number\",\n        \"std\": 0.33132859501277484,\n        \"min\": 0.078,\n        \"max\": 2.42,\n        \"num_unique_values\": 517,\n        \"samples\": [\n          1.731,\n          0.426,\n          0.138\n        ],\n        \"semantic_type\": \"\",\n        \"description\": \"\"\n      }\n    },\n    {\n      \"column\": \"Age\",\n      \"properties\": {\n        \"dtype\": \"number\",\n        \"std\": 11,\n        \"min\": 21,\n        \"max\": 81,\n        \"num_unique_values\": 52,\n        \"samples\": [\n          60,\n          47,\n          72\n        ],\n        \"semantic_type\": \"\",\n        \"description\": \"\"\n      }\n    },\n    {\n      \"column\": \"Outcome\",\n      \"properties\": {\n        \"dtype\": \"number\",\n        \"std\": 0,\n        \"min\": 0,\n        \"max\": 1,\n        \"num_unique_values\": 2,\n        \"samples\": [\n          0,\n          1\n        ],\n        \"semantic_type\": \"\",\n        \"description\": \"\"\n      }\n    }\n  ]\n}"
            }
          },
          "metadata": {},
          "execution_count": 6
        }
      ]
    },
    {
      "cell_type": "code",
      "source": [
        "# Check for missing values\n",
        "print(df.isnull().sum())  # Shows the count of missing values in each column\n"
      ],
      "metadata": {
        "colab": {
          "base_uri": "https://localhost:8080/"
        },
        "id": "zHs8tKjNSh_Y",
        "outputId": "8981465a-d8ed-4916-a116-04d4b97ea980"
      },
      "execution_count": null,
      "outputs": [
        {
          "output_type": "stream",
          "name": "stdout",
          "text": [
            "Pregnancies                 0\n",
            "Glucose                     0\n",
            "BloodPressure               0\n",
            "SkinThickness               0\n",
            "Insulin                     0\n",
            "BMI                         0\n",
            "DiabetesPedigreeFunction    0\n",
            "Age                         0\n",
            "Outcome                     0\n",
            "dtype: int64\n"
          ]
        }
      ]
    },
    {
      "cell_type": "code",
      "source": [
        "X=df.iloc[:,:-1] # Select all rows, all columns except the last\n",
        "y=df.iloc[:,-1] # Select all rows, only the last column (target)"
      ],
      "metadata": {
        "id": "p5jJ2FrhTKKw"
      },
      "execution_count": null,
      "outputs": []
    },
    {
      "cell_type": "code",
      "source": [
        "X_tensor=torch.tensor(X.values, dtype=torch.float32)\n",
        "y_tensor = torch.tensor(y, dtype=torch.float32).unsqueeze(1)  # Converts [768] → [768,1]\n",
        "\n",
        "\n",
        "print(\"Features shape:\", X_tensor.shape)\n",
        "print(\"Target shape:\", y_tensor.shape)"
      ],
      "metadata": {
        "colab": {
          "base_uri": "https://localhost:8080/"
        },
        "id": "PWYnN9uBTjx5",
        "outputId": "c5a3b8d3-8c3f-4b29-c6f0-3c05f228e7ea"
      },
      "execution_count": null,
      "outputs": [
        {
          "output_type": "stream",
          "name": "stdout",
          "text": [
            "Features shape: torch.Size([768, 8])\n",
            "Target shape: torch.Size([768, 1])\n"
          ]
        }
      ]
    },
    {
      "cell_type": "code",
      "source": [
        "mean=X_tensor.mean(dim=0)\n",
        "std=X_tensor.std(dim=0)\n",
        "X_tensor=(X_tensor-mean)/std"
      ],
      "metadata": {
        "id": "TqeiaonEU3IJ"
      },
      "execution_count": null,
      "outputs": []
    },
    {
      "cell_type": "code",
      "source": [
        "from sklearn.model_selection import train_test_split\n",
        "\n",
        "\n",
        "X_train, X_test, y_train, y_test = train_test_split(X_tensor, y_tensor, test_size=0.2, random_state=42)\n",
        "\n",
        "X_train, X_val, y_train, y_val = train_test_split(X_train, y_train, test_size=0.2, random_state=42)\n",
        "\n",
        "print(\"Training set size:\", X_train.shape)\n",
        "print(\"Validation set size:\", X_val.shape)\n",
        "print(\"Testing set size:\", X_test.shape)\n"
      ],
      "metadata": {
        "colab": {
          "base_uri": "https://localhost:8080/"
        },
        "id": "UM2FxvZ3Yz-y",
        "outputId": "88da915a-190b-454f-a8a3-a6909b60c126"
      },
      "execution_count": null,
      "outputs": [
        {
          "output_type": "stream",
          "name": "stdout",
          "text": [
            "Training set size: torch.Size([491, 8])\n",
            "Validation set size: torch.Size([123, 8])\n",
            "Testing set size: torch.Size([154, 8])\n"
          ]
        }
      ]
    },
    {
      "cell_type": "code",
      "source": [
        "class DiabetesClassifier(nn.Module):\n",
        "    def __init__(self):\n",
        "        super(DiabetesClassifier, self).__init__()\n",
        "        self.fc1 = nn.Linear(8, 4) # 8 input features → 4 neurons # Change input features from 3 → 8\n",
        "        self.fc2 = nn.Linear(4, 1)# 4 neurons → 1 output\n",
        "\n",
        "    def forward(self, x):\n",
        "        x = self.fc1(x)\n",
        "        x = self.fc2(x)\n",
        "        return torch.sigmoid(x)\n",
        "\n",
        "# Step 2: Create the Model\n",
        "model = DiabetesClassifier()\n"
      ],
      "metadata": {
        "id": "p1zPfso2ZNhN"
      },
      "execution_count": null,
      "outputs": []
    },
    {
      "cell_type": "code",
      "source": [
        "# It calculates how different our model's predictions are from the actual labels (0 or 1).\n",
        "criterion = nn.BCELoss()\n",
        "\n",
        "# accordinfg to the loss calculated the optimizer will update new values\n",
        "optimizer = torch.optim.Adam(model.parameters(), lr=0.001)\n"
      ],
      "metadata": {
        "id": "LEV4mz2EnNoB"
      },
      "execution_count": null,
      "outputs": []
    },
    {
      "cell_type": "markdown",
      "source": [
        "criterion checks how wrong the predictions are.\n",
        "\n",
        "optimizer adjusts the model to make better predictions in the next round."
      ],
      "metadata": {
        "id": "vdanTlBtoLYH"
      }
    },
    {
      "cell_type": "code",
      "source": [
        "num_epochs = 100\n",
        "for epoch in range(num_epochs):\n",
        "  y_pred=model(X_tensor)\n",
        "\n",
        "  loss=criterion(y_pred, y_tensor)\n",
        "\n",
        "  optimizer.zero_grad()\n",
        "  loss.backward()\n",
        "  optimizer.step()\n",
        "\n",
        "  print(f'Epoch {epoch+1}/{num_epochs}, Loss: {loss.item()}')\n",
        "\n",
        "  if (epoch+1) % 10 == 0:\n",
        "        print(f'Epoch [{epoch+1}/{num_epochs}], Loss: {loss.item():.4f}')"
      ],
      "metadata": {
        "colab": {
          "base_uri": "https://localhost:8080/"
        },
        "id": "h-_KR_sGoQxE",
        "outputId": "4cf3d6bb-ac0b-4b9d-8cd8-0b6a84ed3401"
      },
      "execution_count": null,
      "outputs": [
        {
          "output_type": "stream",
          "name": "stdout",
          "text": [
            "Epoch 1/100, Loss: 0.6482870578765869\n",
            "Epoch 2/100, Loss: 0.6470102667808533\n",
            "Epoch 3/100, Loss: 0.6457396149635315\n",
            "Epoch 4/100, Loss: 0.6444752216339111\n",
            "Epoch 5/100, Loss: 0.6432172656059265\n",
            "Epoch 6/100, Loss: 0.6419658064842224\n",
            "Epoch 7/100, Loss: 0.6407210230827332\n",
            "Epoch 8/100, Loss: 0.6394831538200378\n",
            "Epoch 9/100, Loss: 0.6382521986961365\n",
            "Epoch 10/100, Loss: 0.6370282769203186\n",
            "Epoch [10/100], Loss: 0.6370\n",
            "Epoch 11/100, Loss: 0.6358117461204529\n",
            "Epoch 12/100, Loss: 0.634602427482605\n",
            "Epoch 13/100, Loss: 0.6334004402160645\n",
            "Epoch 14/100, Loss: 0.6322060823440552\n",
            "Epoch 15/100, Loss: 0.6310192942619324\n",
            "Epoch 16/100, Loss: 0.6298401951789856\n",
            "Epoch 17/100, Loss: 0.6286688446998596\n",
            "Epoch 18/100, Loss: 0.6275052428245544\n",
            "Epoch 19/100, Loss: 0.6263495087623596\n",
            "Epoch 20/100, Loss: 0.6252018809318542\n",
            "Epoch [20/100], Loss: 0.6252\n",
            "Epoch 21/100, Loss: 0.6240620017051697\n",
            "Epoch 22/100, Loss: 0.6229302287101746\n",
            "Epoch 23/100, Loss: 0.6218063235282898\n",
            "Epoch 24/100, Loss: 0.620690643787384\n",
            "Epoch 25/100, Loss: 0.6195829510688782\n",
            "Epoch 26/100, Loss: 0.6184832453727722\n",
            "Epoch 27/100, Loss: 0.6173917651176453\n",
            "Epoch 28/100, Loss: 0.6163082122802734\n",
            "Epoch 29/100, Loss: 0.6152327656745911\n",
            "Epoch 30/100, Loss: 0.6141653060913086\n",
            "Epoch [30/100], Loss: 0.6142\n",
            "Epoch 31/100, Loss: 0.613105833530426\n",
            "Epoch 32/100, Loss: 0.6120543479919434\n",
            "Epoch 33/100, Loss: 0.6110108494758606\n",
            "Epoch 34/100, Loss: 0.6099751591682434\n",
            "Epoch 35/100, Loss: 0.6089473366737366\n",
            "Epoch 36/100, Loss: 0.6079273223876953\n",
            "Epoch 37/100, Loss: 0.6069149971008301\n",
            "Epoch 38/100, Loss: 0.6059103608131409\n",
            "Epoch 39/100, Loss: 0.6049133539199829\n",
            "Epoch 40/100, Loss: 0.6039238572120667\n",
            "Epoch [40/100], Loss: 0.6039\n",
            "Epoch 41/100, Loss: 0.6029418110847473\n",
            "Epoch 42/100, Loss: 0.6019671559333801\n",
            "Epoch 43/100, Loss: 0.6009998321533203\n",
            "Epoch 44/100, Loss: 0.6000396013259888\n",
            "Epoch 45/100, Loss: 0.599086582660675\n",
            "Epoch 46/100, Loss: 0.5981405973434448\n",
            "Epoch 47/100, Loss: 0.5972015261650085\n",
            "Epoch 48/100, Loss: 0.5962692499160767\n",
            "Epoch 49/100, Loss: 0.5953437685966492\n",
            "Epoch 50/100, Loss: 0.5944249033927917\n",
            "Epoch [50/100], Loss: 0.5944\n",
            "Epoch 51/100, Loss: 0.5935124754905701\n",
            "Epoch 52/100, Loss: 0.5926066040992737\n",
            "Epoch 53/100, Loss: 0.5917069911956787\n",
            "Epoch 54/100, Loss: 0.5908135175704956\n",
            "Epoch 55/100, Loss: 0.5899261832237244\n",
            "Epoch 56/100, Loss: 0.5890448093414307\n",
            "Epoch 57/100, Loss: 0.588169276714325\n",
            "Epoch 58/100, Loss: 0.5872995257377625\n",
            "Epoch 59/100, Loss: 0.5864354968070984\n",
            "Epoch 60/100, Loss: 0.5855768322944641\n",
            "Epoch [60/100], Loss: 0.5856\n",
            "Epoch 61/100, Loss: 0.5847237706184387\n",
            "Epoch 62/100, Loss: 0.583875834941864\n",
            "Epoch 63/100, Loss: 0.5830332636833191\n",
            "Epoch 64/100, Loss: 0.5821956396102905\n",
            "Epoch 65/100, Loss: 0.5813630223274231\n",
            "Epoch 66/100, Loss: 0.5805352330207825\n",
            "Epoch 67/100, Loss: 0.5797122120857239\n",
            "Epoch 68/100, Loss: 0.5788938403129578\n",
            "Epoch 69/100, Loss: 0.5780799984931946\n",
            "Epoch 70/100, Loss: 0.5772706270217896\n",
            "Epoch [70/100], Loss: 0.5773\n",
            "Epoch 71/100, Loss: 0.5764655470848083\n",
            "Epoch 72/100, Loss: 0.575664758682251\n",
            "Epoch 73/100, Loss: 0.5748681426048279\n",
            "Epoch 74/100, Loss: 0.57407546043396\n",
            "Epoch 75/100, Loss: 0.5732868313789368\n",
            "Epoch 76/100, Loss: 0.5725020170211792\n",
            "Epoch 77/100, Loss: 0.571721076965332\n",
            "Epoch 78/100, Loss: 0.5709437727928162\n",
            "Epoch 79/100, Loss: 0.5701701045036316\n",
            "Epoch 80/100, Loss: 0.5694000124931335\n",
            "Epoch [80/100], Loss: 0.5694\n",
            "Epoch 81/100, Loss: 0.5686333775520325\n",
            "Epoch 82/100, Loss: 0.5678702592849731\n",
            "Epoch 83/100, Loss: 0.5671103596687317\n",
            "Epoch 84/100, Loss: 0.5663538575172424\n",
            "Epoch 85/100, Loss: 0.565600574016571\n",
            "Epoch 86/100, Loss: 0.5648504495620728\n",
            "Epoch 87/100, Loss: 0.5641034841537476\n",
            "Epoch 88/100, Loss: 0.5633596777915955\n",
            "Epoch 89/100, Loss: 0.5626187920570374\n",
            "Epoch 90/100, Loss: 0.5618810057640076\n",
            "Epoch [90/100], Loss: 0.5619\n",
            "Epoch 91/100, Loss: 0.5611461997032166\n",
            "Epoch 92/100, Loss: 0.5604143142700195\n",
            "Epoch 93/100, Loss: 0.5596854090690613\n",
            "Epoch 94/100, Loss: 0.558959424495697\n",
            "Epoch 95/100, Loss: 0.5582361817359924\n",
            "Epoch 96/100, Loss: 0.5575159788131714\n",
            "Epoch 97/100, Loss: 0.55679851770401\n",
            "Epoch 98/100, Loss: 0.5560839772224426\n",
            "Epoch 99/100, Loss: 0.5553722977638245\n",
            "Epoch 100/100, Loss: 0.5546634793281555\n",
            "Epoch [100/100], Loss: 0.5547\n"
          ]
        }
      ]
    },
    {
      "cell_type": "markdown",
      "source": [
        "model training completed\n"
      ],
      "metadata": {
        "id": "cvJ4iN1Qwec2"
      }
    },
    {
      "cell_type": "code",
      "source": [
        "X_test_tensor = torch.tensor(X_test, dtype=torch.float32)\n",
        "y_test_tensor = torch.tensor(y_test, dtype=torch.float32).unsqueeze(1)\n",
        "\n",
        "with torch.no_grad():  # No gradient computation needed\n",
        "    y_test_pred = model(X_test_tensor)  # Get predictions\n",
        "    y_test_pred = (y_test_pred > 0.5).float()  # Convert probabilities to 0 or 1\n",
        "\n",
        "    accuracy = (y_test_pred.eq(y_test_tensor).sum().item()) / y_test_tensor.shape[0]\n",
        "    print(f'Accuracy: {accuracy / 100:.2f}')\n"
      ],
      "metadata": {
        "colab": {
          "base_uri": "https://localhost:8080/"
        },
        "id": "lOcNibsrugFs",
        "outputId": "6a38d9b0-7eaa-4aef-9fbe-3a176bc0899b"
      },
      "execution_count": null,
      "outputs": [
        {
          "output_type": "stream",
          "name": "stdout",
          "text": [
            "Accuracy: 0.91\n"
          ]
        },
        {
          "output_type": "stream",
          "name": "stderr",
          "text": [
            "<ipython-input-35-824d797c6a2e>:1: UserWarning: To copy construct from a tensor, it is recommended to use sourceTensor.clone().detach() or sourceTensor.clone().detach().requires_grad_(True), rather than torch.tensor(sourceTensor).\n",
            "  X_test_tensor = torch.tensor(X_test, dtype=torch.float32)\n",
            "<ipython-input-35-824d797c6a2e>:2: UserWarning: To copy construct from a tensor, it is recommended to use sourceTensor.clone().detach() or sourceTensor.clone().detach().requires_grad_(True), rather than torch.tensor(sourceTensor).\n",
            "  y_test_tensor = torch.tensor(y_test, dtype=torch.float32).unsqueeze(1)\n"
          ]
        }
      ]
    },
    {
      "cell_type": "code",
      "source": [
        "new_data = torch.tensor([[6, 148, 72, 35, 0, 33.6, 0.627, 50]], dtype=torch.float32)  # Example input\n",
        "prediction = model(new_data)\n",
        "prediction = (prediction > 0.5).float()  # Convert to 0 or 1\n",
        "print(f'Predicted Class: {prediction.item()}')"
      ],
      "metadata": {
        "colab": {
          "base_uri": "https://localhost:8080/"
        },
        "id": "g9EIMSuCxPIb",
        "outputId": "dfbc5033-5aec-4122-8ec0-edb4261d35d6"
      },
      "execution_count": null,
      "outputs": [
        {
          "output_type": "stream",
          "name": "stdout",
          "text": [
            "Predicted Class: 1.0\n"
          ]
        }
      ]
    },
    {
      "cell_type": "code",
      "source": [],
      "metadata": {
        "id": "spWXReEjxj0E"
      },
      "execution_count": null,
      "outputs": []
    }
  ]
}